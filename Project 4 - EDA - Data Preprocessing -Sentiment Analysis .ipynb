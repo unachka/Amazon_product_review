{
 "cells": [
  {
   "cell_type": "code",
   "execution_count": 5,
   "metadata": {},
   "outputs": [],
   "source": [
    "import pandas as pd\n",
    "import numpy as np\n",
    "import seaborn as sns\n",
    "import matplotlib.pyplot as plt\n",
    "import gzip \n",
    "\n",
    "\n",
    "\n",
    "from textblob import TextBlob\n",
    "import nltk\n",
    "from nltk.corpus import stopwords\n",
    "from nltk import word_tokenize, pos_tag\n",
    "from nltk.stem import WordNetLemmatizer\n",
    "from nltk.tokenize import sent_tokenize\n",
    "from nltk.corpus import wordnet\n",
    "\n",
    "# nltk.download()\n",
    "\n",
    "\n",
    "import re, string\n",
    "import collections\n",
    "import pickle\n",
    "from subprocess import check_output\n",
    "\n",
    "%matplotlib inline\n",
    "\n",
    "\n",
    "\n"
   ]
  },
  {
   "cell_type": "code",
   "execution_count": 6,
   "metadata": {},
   "outputs": [],
   "source": [
    "import pandas as pd\n",
    "import gzip\n",
    "\n",
    "def parse(path):\n",
    "  g = gzip.open(path, 'rb')\n",
    "  for l in g:\n",
    "    yield eval(l)\n",
    "\n",
    "def getDF(path):\n",
    "  i = 0\n",
    "  df = {}\n",
    "  for d in parse(path):\n",
    "    df[i] = d\n",
    "    i += 1\n",
    "  return pd.DataFrame.from_dict(df, orient='index')\n",
    "\n",
    "df = getDF('reviews_Beauty_5.json.gz')"
   ]
  },
  {
   "cell_type": "markdown",
   "metadata": {},
   "source": [
    "### EDA"
   ]
  },
  {
   "cell_type": "code",
   "execution_count": 7,
   "metadata": {},
   "outputs": [
    {
     "data": {
      "text/html": [
       "<div>\n",
       "<style scoped>\n",
       "    .dataframe tbody tr th:only-of-type {\n",
       "        vertical-align: middle;\n",
       "    }\n",
       "\n",
       "    .dataframe tbody tr th {\n",
       "        vertical-align: top;\n",
       "    }\n",
       "\n",
       "    .dataframe thead th {\n",
       "        text-align: right;\n",
       "    }\n",
       "</style>\n",
       "<table border=\"1\" class=\"dataframe\">\n",
       "  <thead>\n",
       "    <tr style=\"text-align: right;\">\n",
       "      <th></th>\n",
       "      <th>reviewerID</th>\n",
       "      <th>asin</th>\n",
       "      <th>reviewerName</th>\n",
       "      <th>helpful</th>\n",
       "      <th>reviewText</th>\n",
       "      <th>overall</th>\n",
       "      <th>summary</th>\n",
       "      <th>unixReviewTime</th>\n",
       "      <th>reviewTime</th>\n",
       "    </tr>\n",
       "  </thead>\n",
       "  <tbody>\n",
       "    <tr>\n",
       "      <th>0</th>\n",
       "      <td>A1YJEY40YUW4SE</td>\n",
       "      <td>7806397051</td>\n",
       "      <td>Andrea</td>\n",
       "      <td>[3, 4]</td>\n",
       "      <td>Very oily and creamy. Not at all what I expect...</td>\n",
       "      <td>1.0</td>\n",
       "      <td>Don't waste your money</td>\n",
       "      <td>1391040000</td>\n",
       "      <td>01 30, 2014</td>\n",
       "    </tr>\n",
       "    <tr>\n",
       "      <th>1</th>\n",
       "      <td>A60XNB876KYML</td>\n",
       "      <td>7806397051</td>\n",
       "      <td>Jessica H.</td>\n",
       "      <td>[1, 1]</td>\n",
       "      <td>This palette was a decent price and I was look...</td>\n",
       "      <td>3.0</td>\n",
       "      <td>OK Palette!</td>\n",
       "      <td>1397779200</td>\n",
       "      <td>04 18, 2014</td>\n",
       "    </tr>\n",
       "    <tr>\n",
       "      <th>2</th>\n",
       "      <td>A3G6XNM240RMWA</td>\n",
       "      <td>7806397051</td>\n",
       "      <td>Karen</td>\n",
       "      <td>[0, 1]</td>\n",
       "      <td>The texture of this concealer pallet is fantas...</td>\n",
       "      <td>4.0</td>\n",
       "      <td>great quality</td>\n",
       "      <td>1378425600</td>\n",
       "      <td>09 6, 2013</td>\n",
       "    </tr>\n",
       "    <tr>\n",
       "      <th>3</th>\n",
       "      <td>A1PQFP6SAJ6D80</td>\n",
       "      <td>7806397051</td>\n",
       "      <td>Norah</td>\n",
       "      <td>[2, 2]</td>\n",
       "      <td>I really can't tell what exactly this thing is...</td>\n",
       "      <td>2.0</td>\n",
       "      <td>Do not work on my face</td>\n",
       "      <td>1386460800</td>\n",
       "      <td>12 8, 2013</td>\n",
       "    </tr>\n",
       "    <tr>\n",
       "      <th>4</th>\n",
       "      <td>A38FVHZTNQ271F</td>\n",
       "      <td>7806397051</td>\n",
       "      <td>Nova Amor</td>\n",
       "      <td>[0, 0]</td>\n",
       "      <td>It was a little smaller than I expected, but t...</td>\n",
       "      <td>3.0</td>\n",
       "      <td>It's okay.</td>\n",
       "      <td>1382140800</td>\n",
       "      <td>10 19, 2013</td>\n",
       "    </tr>\n",
       "  </tbody>\n",
       "</table>\n",
       "</div>"
      ],
      "text/plain": [
       "       reviewerID        asin reviewerName helpful  \\\n",
       "0  A1YJEY40YUW4SE  7806397051       Andrea  [3, 4]   \n",
       "1   A60XNB876KYML  7806397051   Jessica H.  [1, 1]   \n",
       "2  A3G6XNM240RMWA  7806397051        Karen  [0, 1]   \n",
       "3  A1PQFP6SAJ6D80  7806397051        Norah  [2, 2]   \n",
       "4  A38FVHZTNQ271F  7806397051    Nova Amor  [0, 0]   \n",
       "\n",
       "                                          reviewText  overall  \\\n",
       "0  Very oily and creamy. Not at all what I expect...      1.0   \n",
       "1  This palette was a decent price and I was look...      3.0   \n",
       "2  The texture of this concealer pallet is fantas...      4.0   \n",
       "3  I really can't tell what exactly this thing is...      2.0   \n",
       "4  It was a little smaller than I expected, but t...      3.0   \n",
       "\n",
       "                  summary  unixReviewTime   reviewTime  \n",
       "0  Don't waste your money      1391040000  01 30, 2014  \n",
       "1             OK Palette!      1397779200  04 18, 2014  \n",
       "2           great quality      1378425600   09 6, 2013  \n",
       "3  Do not work on my face      1386460800   12 8, 2013  \n",
       "4              It's okay.      1382140800  10 19, 2013  "
      ]
     },
     "execution_count": 7,
     "metadata": {},
     "output_type": "execute_result"
    }
   ],
   "source": [
    "df.head()"
   ]
  },
  {
   "cell_type": "code",
   "execution_count": 8,
   "metadata": {},
   "outputs": [
    {
     "name": "stdout",
     "output_type": "stream",
     "text": [
      "<class 'pandas.core.frame.DataFrame'>\n",
      "Int64Index: 198502 entries, 0 to 198501\n",
      "Data columns (total 9 columns):\n",
      " #   Column          Non-Null Count   Dtype  \n",
      "---  ------          --------------   -----  \n",
      " 0   reviewerID      198502 non-null  object \n",
      " 1   asin            198502 non-null  object \n",
      " 2   reviewerName    197116 non-null  object \n",
      " 3   helpful         198502 non-null  object \n",
      " 4   reviewText      198502 non-null  object \n",
      " 5   overall         198502 non-null  float64\n",
      " 6   summary         198502 non-null  object \n",
      " 7   unixReviewTime  198502 non-null  int64  \n",
      " 8   reviewTime      198502 non-null  object \n",
      "dtypes: float64(1), int64(1), object(7)\n",
      "memory usage: 15.1+ MB\n"
     ]
    }
   ],
   "source": [
    "# check data type and see if any data missing\n",
    "\n",
    "df.info()"
   ]
  },
  {
   "cell_type": "code",
   "execution_count": 9,
   "metadata": {},
   "outputs": [],
   "source": [
    "# Since Reviewer name and reviewTime are not important and \n",
    "# also few review missing names we will drop these two columns\n",
    "\n",
    "df=df.drop(['reviewerName', 'reviewTime' ], axis=1)"
   ]
  },
  {
   "cell_type": "code",
   "execution_count": 10,
   "metadata": {},
   "outputs": [],
   "source": [
    "\n",
    "from datetime import datetime"
   ]
  },
  {
   "cell_type": "code",
   "execution_count": 11,
   "metadata": {},
   "outputs": [],
   "source": [
    "# change UnixReview time to date format\n",
    "\n",
    "time = lambda row:  datetime.fromtimestamp(row).strftime(\"%m-%d-%Y\")\n",
    "df[\"unixReviewTime\"] = df['unixReviewTime'].apply(time)"
   ]
  },
  {
   "cell_type": "code",
   "execution_count": 12,
   "metadata": {},
   "outputs": [
    {
     "name": "stdout",
     "output_type": "stream",
     "text": [
      "<class 'pandas.core.frame.DataFrame'>\n",
      "Int64Index: 198502 entries, 0 to 198501\n",
      "Data columns (total 7 columns):\n",
      " #   Column          Non-Null Count   Dtype  \n",
      "---  ------          --------------   -----  \n",
      " 0   reviewerID      198502 non-null  object \n",
      " 1   asin            198502 non-null  object \n",
      " 2   helpful         198502 non-null  object \n",
      " 3   reviewText      198502 non-null  object \n",
      " 4   overall         198502 non-null  float64\n",
      " 5   summary         198502 non-null  object \n",
      " 6   unixReviewTime  198502 non-null  object \n",
      "dtypes: float64(1), object(6)\n",
      "memory usage: 12.1+ MB\n"
     ]
    }
   ],
   "source": [
    "df.info()"
   ]
  },
  {
   "cell_type": "code",
   "execution_count": 13,
   "metadata": {},
   "outputs": [],
   "source": [
    "lenght_review=df['reviewText'].str.len()"
   ]
  },
  {
   "cell_type": "code",
   "execution_count": 14,
   "metadata": {},
   "outputs": [
    {
     "data": {
      "text/plain": [
       "count    198502.000000\n",
       "mean        472.004307\n",
       "std         511.116953\n",
       "min           0.000000\n",
       "25%         173.000000\n",
       "50%         309.000000\n",
       "75%         583.000000\n",
       "max       20925.000000\n",
       "Name: reviewText, dtype: float64"
      ]
     },
     "execution_count": 14,
     "metadata": {},
     "output_type": "execute_result"
    }
   ],
   "source": [
    "lenght_review.describe()"
   ]
  },
  {
   "cell_type": "code",
   "execution_count": 15,
   "metadata": {},
   "outputs": [
    {
     "name": "stdout",
     "output_type": "stream",
     "text": [
      "Number of unique products: 12101\n"
     ]
    }
   ],
   "source": [
    "print('Number of unique products:', len(df['asin'].unique()))"
   ]
  },
  {
   "cell_type": "code",
   "execution_count": 16,
   "metadata": {},
   "outputs": [
    {
     "name": "stdout",
     "output_type": "stream",
     "text": [
      "Number of unique products: 198414\n"
     ]
    }
   ],
   "source": [
    "print('Number of unique products:', len(df['reviewText'].unique()))"
   ]
  },
  {
   "cell_type": "code",
   "execution_count": 17,
   "metadata": {},
   "outputs": [],
   "source": [
    "#lenght of review\n",
    "\n",
    "df['revlenght'] = df['reviewText'].apply(lambda col: len(col.split(' ')))"
   ]
  },
  {
   "cell_type": "code",
   "execution_count": 18,
   "metadata": {},
   "outputs": [
    {
     "data": {
      "image/png": "[encoded data removed]",
      "text/plain": [
       "<Figure size 432x288 with 1 Axes>"
      ]
     },
     "metadata": {
      "needs_background": "light"
     },
     "output_type": "display_data"
    }
   ],
   "source": [
    "df['revlenght'].hist(color = 'lightblue', bins=1000);\n",
    "plt.xlim(0,300)\n",
    "plt.title('Review lenght distribution', fontsize =12)\n",
    "plt.savefig('review_length_count_2008-2013.png')"
   ]
  },
  {
   "cell_type": "code",
   "execution_count": 19,
   "metadata": {},
   "outputs": [],
   "source": [
    "# Remove reviews that has either too long or too short since I think they might not provide more insight\n",
    "\n",
    "\n",
    "df = df[df['reviewText'].map(len) >= 175] \n",
    "df = df[df['reviewText'].map(len) <= 600] \n",
    "df = df.reset_index(drop=True)"
   ]
  },
  {
   "cell_type": "code",
   "execution_count": 20,
   "metadata": {},
   "outputs": [],
   "source": [
    "lenght_review =df['reviewText'].str.len()"
   ]
  },
  {
   "cell_type": "code",
   "execution_count": 21,
   "metadata": {},
   "outputs": [
    {
     "data": {
      "text/plain": [
       "count    100317.000000\n",
       "mean        337.487355\n",
       "std         118.725722\n",
       "min         175.000000\n",
       "25%         234.000000\n",
       "50%         315.000000\n",
       "75%         428.000000\n",
       "max         600.000000\n",
       "Name: reviewText, dtype: float64"
      ]
     },
     "execution_count": 21,
     "metadata": {},
     "output_type": "execute_result"
    }
   ],
   "source": [
    "lenght_review.describe()"
   ]
  },
  {
   "cell_type": "code",
   "execution_count": 22,
   "metadata": {},
   "outputs": [
    {
     "name": "stdout",
     "output_type": "stream",
     "text": [
      "Earliest review\n"
     ]
    },
    {
     "data": {
      "text/plain": [
       "'01-01-2008'"
      ]
     },
     "execution_count": 22,
     "metadata": {},
     "output_type": "execute_result"
    }
   ],
   "source": [
    "print(\"Earliest review\")\n",
    "df['unixReviewTime'].min()"
   ]
  },
  {
   "cell_type": "code",
   "execution_count": 23,
   "metadata": {},
   "outputs": [
    {
     "name": "stdout",
     "output_type": "stream",
     "text": [
      "Latest review\n"
     ]
    },
    {
     "data": {
      "text/plain": [
       "'12-31-2013'"
      ]
     },
     "execution_count": 23,
     "metadata": {},
     "output_type": "execute_result"
    }
   ],
   "source": [
    "print('Latest review')\n",
    "df['unixReviewTime'].max()"
   ]
  },
  {
   "cell_type": "code",
   "execution_count": 24,
   "metadata": {},
   "outputs": [
    {
     "data": {
      "image/png": "[encoded data removed]",
      "text/plain": [
       "<Figure size 432x288 with 1 Axes>"
      ]
     },
     "metadata": {
      "needs_background": "light"
     },
     "output_type": "display_data"
    }
   ],
   "source": [
    "# plotting count of each review star\n",
    "\n",
    "sns.countplot(x='overall', data=df);\n",
    "plt.xlabel('Star',fontsize=12);\n",
    "plt.ylabel('Count',fontsize=12);\n",
    "plt.title('Review Score count 2008-2013',fontsize=12);\n",
    "plt.savefig('review_score_count_2008-2013.png')"
   ]
  },
  {
   "cell_type": "code",
   "execution_count": 25,
   "metadata": {},
   "outputs": [
    {
     "data": {
      "text/plain": [
       "5.0    0.573602\n",
       "4.0    0.198989\n",
       "3.0    0.113430\n",
       "2.0    0.060279\n",
       "1.0    0.053700\n",
       "Name: overall, dtype: float64"
      ]
     },
     "execution_count": 25,
     "metadata": {},
     "output_type": "execute_result"
    }
   ],
   "source": [
    "#Check porportion of the stars \n",
    "\n",
    "df.overall.value_counts(normalize=True)\n"
   ]
  },
  {
   "cell_type": "code",
   "execution_count": 26,
   "metadata": {},
   "outputs": [
    {
     "data": {
      "text/html": [
       "<div>\n",
       "<style scoped>\n",
       "    .dataframe tbody tr th:only-of-type {\n",
       "        vertical-align: middle;\n",
       "    }\n",
       "\n",
       "    .dataframe tbody tr th {\n",
       "        vertical-align: top;\n",
       "    }\n",
       "\n",
       "    .dataframe thead th {\n",
       "        text-align: right;\n",
       "    }\n",
       "</style>\n",
       "<table border=\"1\" class=\"dataframe\">\n",
       "  <thead>\n",
       "    <tr style=\"text-align: right;\">\n",
       "      <th></th>\n",
       "      <th>sentiment</th>\n",
       "      <th>reviewText</th>\n",
       "      <th>overall</th>\n",
       "      <th>helpful</th>\n",
       "      <th>unixReviewTime</th>\n",
       "    </tr>\n",
       "  </thead>\n",
       "  <tbody>\n",
       "    <tr>\n",
       "      <th>0</th>\n",
       "      <td>positive</td>\n",
       "      <td>The texture of this concealer pallet is fantas...</td>\n",
       "      <td>4.0</td>\n",
       "      <td>[0, 1]</td>\n",
       "      <td>09-05-2013</td>\n",
       "    </tr>\n",
       "    <tr>\n",
       "      <th>1</th>\n",
       "      <td>negative</td>\n",
       "      <td>It was a little smaller than I expected, but t...</td>\n",
       "      <td>3.0</td>\n",
       "      <td>[0, 0]</td>\n",
       "      <td>10-18-2013</td>\n",
       "    </tr>\n",
       "    <tr>\n",
       "      <th>2</th>\n",
       "      <td>negative</td>\n",
       "      <td>PLEASE DONT DO IT! this just rachett the palet...</td>\n",
       "      <td>1.0</td>\n",
       "      <td>[1, 3]</td>\n",
       "      <td>08-15-2013</td>\n",
       "    </tr>\n",
       "    <tr>\n",
       "      <th>3</th>\n",
       "      <td>negative</td>\n",
       "      <td>Chalky,Not Pigmented,Wears off easily,Not a Co...</td>\n",
       "      <td>2.0</td>\n",
       "      <td>[0, 1]</td>\n",
       "      <td>09-03-2013</td>\n",
       "    </tr>\n",
       "    <tr>\n",
       "      <th>4</th>\n",
       "      <td>negative</td>\n",
       "      <td>Did nothing for me. Stings when I put it on. I...</td>\n",
       "      <td>2.0</td>\n",
       "      <td>[0, 0]</td>\n",
       "      <td>07-12-2014</td>\n",
       "    </tr>\n",
       "  </tbody>\n",
       "</table>\n",
       "</div>"
      ],
      "text/plain": [
       "  sentiment                                         reviewText  overall  \\\n",
       "0  positive  The texture of this concealer pallet is fantas...      4.0   \n",
       "1  negative  It was a little smaller than I expected, but t...      3.0   \n",
       "2  negative  PLEASE DONT DO IT! this just rachett the palet...      1.0   \n",
       "3  negative  Chalky,Not Pigmented,Wears off easily,Not a Co...      2.0   \n",
       "4  negative  Did nothing for me. Stings when I put it on. I...      2.0   \n",
       "\n",
       "  helpful unixReviewTime  \n",
       "0  [0, 1]     09-05-2013  \n",
       "1  [0, 0]     10-18-2013  \n",
       "2  [1, 3]     08-15-2013  \n",
       "3  [0, 1]     09-03-2013  \n",
       "4  [0, 0]     07-12-2014  "
      ]
     },
     "execution_count": 26,
     "metadata": {},
     "output_type": "execute_result"
    }
   ],
   "source": [
    "#Set 4 and 5 star reviews to positive, and the rest to negative for later use\n",
    "\n",
    "df['sentiment'] = np.where(df['overall'] >=4, 'positive', 'negative')\n",
    "\n",
    "# include only the Sentiment and reviews columns\n",
    "\n",
    "data = df[['sentiment', 'reviewText','overall', 'helpful','unixReviewTime' ]]\n",
    "\n",
    "data.head()"
   ]
  },
  {
   "cell_type": "code",
   "execution_count": 27,
   "metadata": {},
   "outputs": [
    {
     "data": {
      "text/plain": [
       "positive    0.772591\n",
       "negative    0.227409\n",
       "Name: sentiment, dtype: float64"
      ]
     },
     "execution_count": 27,
     "metadata": {},
     "output_type": "execute_result"
    }
   ],
   "source": [
    "#Mostly positive reviews \n",
    "data.sentiment.value_counts(normalize=True)"
   ]
  },
  {
   "cell_type": "markdown",
   "metadata": {},
   "source": [
    "### NLP - Text preprocessing "
   ]
  },
  {
   "cell_type": "code",
   "execution_count": 28,
   "metadata": {},
   "outputs": [],
   "source": [
    "review = data.copy()\n",
    "\n"
   ]
  },
  {
   "cell_type": "code",
   "execution_count": 29,
   "metadata": {},
   "outputs": [
    {
     "data": {
      "text/plain": [
       "'This is a beautiful perfume! Nice, clean scent! Perfect for day or night and never gets old. I ordered this perfume (and this was the best price offered), and it came with a lotion too! That was a nice unexpected surprise! :)'"
      ]
     },
     "execution_count": 29,
     "metadata": {},
     "output_type": "execute_result"
    }
   ],
   "source": [
    "# Sample reviwe \n",
    "\n",
    "\n",
    "review['reviewText'][14]"
   ]
  },
  {
   "cell_type": "code",
   "execution_count": 30,
   "metadata": {},
   "outputs": [
    {
     "data": {
      "text/html": [
       "<div>\n",
       "<style scoped>\n",
       "    .dataframe tbody tr th:only-of-type {\n",
       "        vertical-align: middle;\n",
       "    }\n",
       "\n",
       "    .dataframe tbody tr th {\n",
       "        vertical-align: top;\n",
       "    }\n",
       "\n",
       "    .dataframe thead th {\n",
       "        text-align: right;\n",
       "    }\n",
       "</style>\n",
       "<table border=\"1\" class=\"dataframe\">\n",
       "  <thead>\n",
       "    <tr style=\"text-align: right;\">\n",
       "      <th></th>\n",
       "      <th>reviewText</th>\n",
       "      <th>stopwords</th>\n",
       "    </tr>\n",
       "  </thead>\n",
       "  <tbody>\n",
       "    <tr>\n",
       "      <th>0</th>\n",
       "      <td>The texture of this concealer pallet is fantas...</td>\n",
       "      <td>51</td>\n",
       "    </tr>\n",
       "    <tr>\n",
       "      <th>1</th>\n",
       "      <td>It was a little smaller than I expected, but t...</td>\n",
       "      <td>31</td>\n",
       "    </tr>\n",
       "    <tr>\n",
       "      <th>2</th>\n",
       "      <td>PLEASE DONT DO IT! this just rachett the palet...</td>\n",
       "      <td>20</td>\n",
       "    </tr>\n",
       "    <tr>\n",
       "      <th>3</th>\n",
       "      <td>Chalky,Not Pigmented,Wears off easily,Not a Co...</td>\n",
       "      <td>10</td>\n",
       "    </tr>\n",
       "    <tr>\n",
       "      <th>4</th>\n",
       "      <td>Did nothing for me. Stings when I put it on. I...</td>\n",
       "      <td>21</td>\n",
       "    </tr>\n",
       "  </tbody>\n",
       "</table>\n",
       "</div>"
      ],
      "text/plain": [
       "                                          reviewText  stopwords\n",
       "0  The texture of this concealer pallet is fantas...         51\n",
       "1  It was a little smaller than I expected, but t...         31\n",
       "2  PLEASE DONT DO IT! this just rachett the palet...         20\n",
       "3  Chalky,Not Pigmented,Wears off easily,Not a Co...         10\n",
       "4  Did nothing for me. Stings when I put it on. I...         21"
      ]
     },
     "execution_count": 30,
     "metadata": {},
     "output_type": "execute_result"
    }
   ],
   "source": [
    "# Count stopwords\n",
    "stop = stopwords.words('english')\n",
    "\n",
    "review['stopwords'] = review['reviewText'].apply(lambda x:len([x for x in x.split() if x in stop]))\n",
    "review[['reviewText','stopwords']].head()"
   ]
  },
  {
   "cell_type": "code",
   "execution_count": 31,
   "metadata": {},
   "outputs": [
    {
     "name": "stdout",
     "output_type": "stream",
     "text": [
      "['i', 'me', 'my', 'myself', 'we', 'our', 'ours', 'ourselves', 'you', \"you're\", \"you've\", \"you'll\", \"you'd\", 'your', 'yours', 'yourself', 'yourselves', 'he', 'him', 'his', 'himself', 'she', \"she's\", 'her', 'hers', 'herself', 'it', \"it's\", 'its', 'itself', 'they', 'them', 'their', 'theirs', 'themselves', 'what', 'which', 'who', 'whom', 'this', 'that', \"that'll\", 'these', 'those', 'am', 'is', 'are', 'was', 'were', 'be', 'been', 'being', 'have', 'has', 'had', 'having', 'do', 'does', 'did', 'doing', 'a', 'an', 'the', 'and', 'but', 'if', 'or', 'because', 'as', 'until', 'while', 'of', 'at', 'by', 'for', 'with', 'about', 'against', 'between', 'into', 'through', 'during', 'before', 'after', 'above', 'below', 'to', 'from', 'up', 'down', 'in', 'out', 'on', 'off', 'over', 'under', 'again', 'further', 'then', 'once', 'here', 'there', 'when', 'where', 'why', 'how', 'all', 'any', 'both', 'each', 'few', 'more', 'most', 'other', 'some', 'such', 'no', 'nor', 'not', 'only', 'own', 'same', 'so', 'than', 'too', 'very', 's', 't', 'can', 'will', 'just', 'don', \"don't\", 'should', \"should've\", 'now', 'd', 'll', 'm', 'o', 're', 've', 'y', 'ain', 'aren', \"aren't\", 'couldn', \"couldn't\", 'didn', \"didn't\", 'doesn', \"doesn't\", 'hadn', \"hadn't\", 'hasn', \"hasn't\", 'haven', \"haven't\", 'isn', \"isn't\", 'ma', 'mightn', \"mightn't\", 'mustn', \"mustn't\", 'needn', \"needn't\", 'shan', \"shan't\", 'shouldn', \"shouldn't\", 'wasn', \"wasn't\", 'weren', \"weren't\", 'won', \"won't\", 'wouldn', \"wouldn't\"]\n"
     ]
    }
   ],
   "source": [
    "print(stop)"
   ]
  },
  {
   "cell_type": "code",
   "execution_count": 32,
   "metadata": {},
   "outputs": [
    {
     "data": {
      "text/plain": [
       "'This is a beautiful perfume! Nice, clean scent! Perfect for day or night and never gets old. I ordered this perfume (and this was the best price offered), and it came with a lotion too! That was a nice unexpected surprise! :)'"
      ]
     },
     "execution_count": 32,
     "metadata": {},
     "output_type": "execute_result"
    }
   ],
   "source": [
    "review['reviewText'][14]"
   ]
  },
  {
   "cell_type": "code",
   "execution_count": 33,
   "metadata": {},
   "outputs": [
    {
     "data": {
      "text/plain": [
       "'this is a beautiful perfume  nice  clean scent  perfect for day or night and never gets old  i ordered this perfume  and this was the best price offered   and it came with a lotion too  that was a nice unexpected surprise    '"
      ]
     },
     "execution_count": 33,
     "metadata": {},
     "output_type": "execute_result"
    }
   ],
   "source": [
    "#Removong numbers, capital letters, and punctuation\n",
    "\n",
    "\n",
    "alphanumeric = lambda x: re.sub('\\w*\\d\\w*', ' ', x)\n",
    "punc_lower = lambda x: re.sub('[%s]' % re.escape(string.punctuation), ' ', x.lower())\n",
    "\n",
    "review['reviewText'] = review.reviewText.map(alphanumeric).map(punc_lower)\n",
    "review['reviewText'][14]"
   ]
  },
  {
   "cell_type": "code",
   "execution_count": 34,
   "metadata": {},
   "outputs": [
    {
     "data": {
      "text/plain": [
       "'beautiful perfume nice clean scent perfect day night never gets old ordered perfume best price offered came lotion nice unexpected surprise'"
      ]
     },
     "execution_count": 34,
     "metadata": {},
     "output_type": "execute_result"
    }
   ],
   "source": [
    "#R Remove stop words\n",
    "review['reviewText'] = review['reviewText'].apply(lambda x: \" \".join(x for x in x.split() if x not in stop))\n",
    "review['reviewText'][14]"
   ]
  },
  {
   "cell_type": "code",
   "execution_count": 35,
   "metadata": {},
   "outputs": [
    {
     "data": {
      "text/plain": [
       "[('hair', 58536),\n",
       " ('product', 42781),\n",
       " ('use', 39992),\n",
       " ('like', 38525),\n",
       " ('skin', 37251),\n",
       " ('great', 29631),\n",
       " ('love', 26561),\n",
       " ('really', 24473),\n",
       " ('one', 23395),\n",
       " ('good', 23332),\n",
       " ('well', 20080),\n",
       " ('would', 19169),\n",
       " ('using', 18968),\n",
       " ('used', 18595),\n",
       " ('get', 17704),\n",
       " ('color', 16059),\n",
       " ('face', 15204),\n",
       " ('much', 14655),\n",
       " ('dry', 14280),\n",
       " ('little', 14135),\n",
       " ('also', 14121),\n",
       " ('time', 13735),\n",
       " ('nice', 13238),\n",
       " ('works', 12323),\n",
       " ('products', 12265),\n",
       " ('smell', 12119),\n",
       " ('long', 11718),\n",
       " ('price', 11082),\n",
       " ('even', 10843),\n",
       " ('look', 10675),\n",
       " ('recommend', 10580),\n",
       " ('make', 10385),\n",
       " ('day', 10197),\n",
       " ('feel', 10154),\n",
       " ('better', 10123),\n",
       " ('brush', 10073),\n",
       " ('scent', 9740),\n",
       " ('soft', 9706),\n",
       " ('work', 9595),\n",
       " ('buy', 9109)]"
      ]
     },
     "execution_count": 35,
     "metadata": {},
     "output_type": "execute_result"
    }
   ],
   "source": [
    "# Print most common words to see if need to create custom stop words\n",
    "\n",
    "from collections import Counter\n",
    "\n",
    "cnt =Counter()\n",
    "\n",
    "for text in review['reviewText'].values:\n",
    "    for word in text.split():\n",
    "        cnt[word] +=1\n",
    "        \n",
    "cnt.most_common(40)"
   ]
  },
  {
   "cell_type": "code",
   "execution_count": 36,
   "metadata": {},
   "outputs": [],
   "source": [
    "stop = set(stopwords.words('english'))\n",
    "\n",
    "#adding additional stop word which I think have no effect for my topic modeling\n",
    "\n",
    "stopwords = ['product', 'use', 'like', 'great', 'really', 'good', 'also', 'would', 'used', 'well', 'get', 'time','color',\n",
    "            'much', 'little','even', 'eventough', 'works', 'want', 'try', 'work', 'products', 'using', 'hair', 'skin',\n",
    "            'got', 'lot', 'one', 'look', 'day', 'recommend', 'still', 'bit', 'way', 'since', 'buy', 'skin']\n",
    "\n",
    "for j in stopwords:\n",
    "    stop.add(j)"
   ]
  },
  {
   "cell_type": "code",
   "execution_count": 37,
   "metadata": {},
   "outputs": [
    {
     "data": {
      "text/plain": [
       "'beautiful perfume nice clean scent perfect night never gets old ordered perfume best price offered came lotion nice unexpected surprise'"
      ]
     },
     "execution_count": 37,
     "metadata": {},
     "output_type": "execute_result"
    }
   ],
   "source": [
    "\n",
    "review['reviewText'] = review['reviewText'].apply(lambda x: \" \".join(x for x in x.split() if x not in stop))\n",
    "review['reviewText'][14]"
   ]
  },
  {
   "cell_type": "code",
   "execution_count": 38,
   "metadata": {},
   "outputs": [
    {
     "data": {
      "text/plain": [
       "shoplifting            1\n",
       "acneprone              1\n",
       "burnout                1\n",
       "bondini                1\n",
       "crunchier              1\n",
       "parfumat               1\n",
       "frsh                   1\n",
       "reopened               1\n",
       "scarguard              1\n",
       "toolone                1\n",
       "soolthing              1\n",
       "tousles                1\n",
       "goatie                 1\n",
       "danskin                1\n",
       "unpronounceable        1\n",
       "expensively            1\n",
       "endangering            1\n",
       "lana                   1\n",
       "liberly                1\n",
       "cidar                  1\n",
       "sprain                 1\n",
       "airplus                1\n",
       "noticeble              1\n",
       "exfolitation           1\n",
       "recieveing             1\n",
       "subtitute              1\n",
       "conduct                1\n",
       "packie                 1\n",
       "purposeful             1\n",
       "stayput                1\n",
       "dragqueenish           1\n",
       "pheronomes             1\n",
       "drowsiness             1\n",
       "canadiannailfanatic    1\n",
       "overstyled             1\n",
       "cohash                 1\n",
       "herethis               1\n",
       "frechtwist             1\n",
       "scentlight             1\n",
       "craztpy                1\n",
       "pete                   1\n",
       "withouta               1\n",
       "trhem                  1\n",
       "verrrrrrryy            1\n",
       "flexiable              1\n",
       "pipet                  1\n",
       "bwcomes                1\n",
       "polos                  1\n",
       "spirolactino           1\n",
       "alsois                 1\n",
       "dtype: int64"
      ]
     },
     "execution_count": 38,
     "metadata": {},
     "output_type": "execute_result"
    }
   ],
   "source": [
    "# Remove least frequent words \n",
    "\n",
    "freq = pd.Series(' '.join(review['reviewText']).split()).value_counts()[-50:]\n",
    "freq"
   ]
  },
  {
   "cell_type": "code",
   "execution_count": 39,
   "metadata": {},
   "outputs": [
    {
     "data": {
      "text/plain": [
       "'beautiful perfume nice clean scent perfect night never gets old ordered perfume best price offered came lotion nice unexpected surprise'"
      ]
     },
     "execution_count": 39,
     "metadata": {},
     "output_type": "execute_result"
    }
   ],
   "source": [
    "freq = list(freq.index)\n",
    "review['reviewText'] = review['reviewText'].apply(lambda x: \" \".join(x for x in x.split() if x not in freq))\n",
    "review['reviewText'][14]"
   ]
  },
  {
   "cell_type": "code",
   "execution_count": 40,
   "metadata": {},
   "outputs": [
    {
     "data": {
      "text/plain": [
       "'beautiful perfume nice clean scent perfect night never gets old ordered perfume best price offered came lotion nice unexpected surprise'"
      ]
     },
     "execution_count": 40,
     "metadata": {},
     "output_type": "execute_result"
    }
   ],
   "source": [
    "#remove special charters \n",
    "\n",
    "remove_special = lambda x: re.sub(r'\\&\\#\\:', '', x)\n",
    "\n",
    "#replace letters repeated more than 2 by 1 \n",
    "\n",
    "# replace_letter = lambda x: re.sub(r'(\\w)\\1(\\1+)',r'\\1', x)\n",
    "# replace_letter = lambda x: re.sub(r'(\\w)(\\1+)',r'\\1', x)\n",
    "\n",
    "review['reviewText'] = review.reviewText.map(remove_special)\n",
    "review['reviewText'][14]"
   ]
  },
  {
   "cell_type": "code",
   "execution_count": 41,
   "metadata": {},
   "outputs": [
    {
     "data": {
      "text/plain": [
       "'beautiful perfume nice clean scent perfect night never gets old ordered perfume best price offered came lotion nice unexpected surprise'"
      ]
     },
     "execution_count": 41,
     "metadata": {},
     "output_type": "execute_result"
    }
   ],
   "source": [
    "#Remove white spaces \n",
    "\n",
    "\n",
    "pattern = r\"[\\s]+\"\n",
    "\n",
    "review['reviewText'] = review['reviewText'].str.replace(pat=pattern, repl=\" \", regex=True)\n",
    "review['reviewText'][14]"
   ]
  },
  {
   "cell_type": "markdown",
   "metadata": {},
   "source": [
    "### Lemmatization "
   ]
  },
  {
   "cell_type": "code",
   "execution_count": 42,
   "metadata": {},
   "outputs": [],
   "source": [
    "import spacy\n",
    "nlp = spacy.load(\"en_core_web_sm\")"
   ]
  },
  {
   "cell_type": "code",
   "execution_count": 43,
   "metadata": {},
   "outputs": [],
   "source": [
    "def lemmatizer (text):\n",
    "    '''reads in pandas series and reviews and lemmatizas each one return series'''\n",
    "    lemmas = [t.lemma_ for t in nlp(text)]\n",
    "    text = ' '.join(lemmas)\n",
    "    return text\n",
    "    "
   ]
  },
  {
   "cell_type": "code",
   "execution_count": 44,
   "metadata": {},
   "outputs": [
    {
     "data": {
      "text/plain": [
       "'beautiful perfume nice clean scent perfect night never get old ordered perfume good price offer come lotion nice unexpected surprise'"
      ]
     },
     "execution_count": 44,
     "metadata": {},
     "output_type": "execute_result"
    }
   ],
   "source": [
    "lemmatizer (review[\"reviewText\"][14])"
   ]
  },
  {
   "cell_type": "code",
   "execution_count": 45,
   "metadata": {},
   "outputs": [],
   "source": [
    "# Run this previously since it will take a while \n",
    "\n",
    "\n",
    "# review['reviewText'] = review['reviewText'].apply(lemmatizer)  \n"
   ]
  },
  {
   "cell_type": "code",
   "execution_count": 47,
   "metadata": {},
   "outputs": [],
   "source": [
    "# Saving if for later use \n",
    "\n",
    "\n",
    "# with open('updated_lem_review1.pickle', 'wb') as to_write:\n",
    "#     pickle.dump(review, to_write)"
   ]
  },
  {
   "cell_type": "markdown",
   "metadata": {},
   "source": [
    "### Sentiment analysis"
   ]
  },
  {
   "cell_type": "code",
   "execution_count": 48,
   "metadata": {},
   "outputs": [],
   "source": [
    "\n",
    "from gensim.models import Phrases\n",
    "from gensim.models.phrases import Phraser"
   ]
  },
  {
   "cell_type": "code",
   "execution_count": 49,
   "metadata": {},
   "outputs": [],
   "source": [
    "df = pd.read_pickle('updated_lem_review.pickle')"
   ]
  },
  {
   "cell_type": "code",
   "execution_count": 50,
   "metadata": {},
   "outputs": [
    {
     "data": {
      "text/html": [
       "<div>\n",
       "<style scoped>\n",
       "    .dataframe tbody tr th:only-of-type {\n",
       "        vertical-align: middle;\n",
       "    }\n",
       "\n",
       "    .dataframe tbody tr th {\n",
       "        vertical-align: top;\n",
       "    }\n",
       "\n",
       "    .dataframe thead th {\n",
       "        text-align: right;\n",
       "    }\n",
       "</style>\n",
       "<table border=\"1\" class=\"dataframe\">\n",
       "  <thead>\n",
       "    <tr style=\"text-align: right;\">\n",
       "      <th></th>\n",
       "      <th>sentiment</th>\n",
       "      <th>reviewText</th>\n",
       "      <th>overall</th>\n",
       "      <th>helpful</th>\n",
       "      <th>unixReviewTime</th>\n",
       "      <th>stopwords</th>\n",
       "    </tr>\n",
       "  </thead>\n",
       "  <tbody>\n",
       "    <tr>\n",
       "      <th>0</th>\n",
       "      <td>negative</td>\n",
       "      <td>oily creamy expect order try highlight contour...</td>\n",
       "      <td>1.0</td>\n",
       "      <td>[3, 4]</td>\n",
       "      <td>01-29-2014</td>\n",
       "      <td>12</td>\n",
       "    </tr>\n",
       "    <tr>\n",
       "      <th>1</th>\n",
       "      <td>negative</td>\n",
       "      <td>palette decent price look different shade pale...</td>\n",
       "      <td>3.0</td>\n",
       "      <td>[1, 1]</td>\n",
       "      <td>04-17-2014</td>\n",
       "      <td>11</td>\n",
       "    </tr>\n",
       "    <tr>\n",
       "      <th>2</th>\n",
       "      <td>positive</td>\n",
       "      <td>texture concealer pallet fantastic great cover...</td>\n",
       "      <td>4.0</td>\n",
       "      <td>[0, 1]</td>\n",
       "      <td>09-05-2013</td>\n",
       "      <td>51</td>\n",
       "    </tr>\n",
       "    <tr>\n",
       "      <th>3</th>\n",
       "      <td>negative</td>\n",
       "      <td>tell exactly thing powder kind oil ish pasty f...</td>\n",
       "      <td>2.0</td>\n",
       "      <td>[2, 2]</td>\n",
       "      <td>12-07-2013</td>\n",
       "      <td>12</td>\n",
       "    </tr>\n",
       "    <tr>\n",
       "      <th>4</th>\n",
       "      <td>negative</td>\n",
       "      <td>little small expect okay lasted long time thin...</td>\n",
       "      <td>3.0</td>\n",
       "      <td>[0, 0]</td>\n",
       "      <td>10-18-2013</td>\n",
       "      <td>31</td>\n",
       "    </tr>\n",
       "  </tbody>\n",
       "</table>\n",
       "</div>"
      ],
      "text/plain": [
       "  sentiment                                         reviewText  overall  \\\n",
       "0  negative  oily creamy expect order try highlight contour...      1.0   \n",
       "1  negative  palette decent price look different shade pale...      3.0   \n",
       "2  positive  texture concealer pallet fantastic great cover...      4.0   \n",
       "3  negative  tell exactly thing powder kind oil ish pasty f...      2.0   \n",
       "4  negative  little small expect okay lasted long time thin...      3.0   \n",
       "\n",
       "  helpful unixReviewTime  stopwords  \n",
       "0  [3, 4]     01-29-2014         12  \n",
       "1  [1, 1]     04-17-2014         11  \n",
       "2  [0, 1]     09-05-2013         51  \n",
       "3  [2, 2]     12-07-2013         12  \n",
       "4  [0, 0]     10-18-2013         31  "
      ]
     },
     "execution_count": 50,
     "metadata": {},
     "output_type": "execute_result"
    }
   ],
   "source": [
    "df.head()"
   ]
  },
  {
   "cell_type": "code",
   "execution_count": 51,
   "metadata": {},
   "outputs": [],
   "source": [
    "df = df.drop(['stopwords'],axis=1)"
   ]
  },
  {
   "cell_type": "code",
   "execution_count": 52,
   "metadata": {},
   "outputs": [
    {
     "data": {
      "text/html": [
       "<div>\n",
       "<style scoped>\n",
       "    .dataframe tbody tr th:only-of-type {\n",
       "        vertical-align: middle;\n",
       "    }\n",
       "\n",
       "    .dataframe tbody tr th {\n",
       "        vertical-align: top;\n",
       "    }\n",
       "\n",
       "    .dataframe thead th {\n",
       "        text-align: right;\n",
       "    }\n",
       "</style>\n",
       "<table border=\"1\" class=\"dataframe\">\n",
       "  <thead>\n",
       "    <tr style=\"text-align: right;\">\n",
       "      <th></th>\n",
       "      <th>sentiment</th>\n",
       "      <th>reviewText</th>\n",
       "      <th>overall</th>\n",
       "      <th>helpful</th>\n",
       "      <th>unixReviewTime</th>\n",
       "    </tr>\n",
       "  </thead>\n",
       "  <tbody>\n",
       "    <tr>\n",
       "      <th>0</th>\n",
       "      <td>negative</td>\n",
       "      <td>oily creamy expect order try highlight contour...</td>\n",
       "      <td>1.0</td>\n",
       "      <td>[3, 4]</td>\n",
       "      <td>01-29-2014</td>\n",
       "    </tr>\n",
       "    <tr>\n",
       "      <th>1</th>\n",
       "      <td>negative</td>\n",
       "      <td>palette decent price look different shade pale...</td>\n",
       "      <td>3.0</td>\n",
       "      <td>[1, 1]</td>\n",
       "      <td>04-17-2014</td>\n",
       "    </tr>\n",
       "    <tr>\n",
       "      <th>2</th>\n",
       "      <td>positive</td>\n",
       "      <td>texture concealer pallet fantastic great cover...</td>\n",
       "      <td>4.0</td>\n",
       "      <td>[0, 1]</td>\n",
       "      <td>09-05-2013</td>\n",
       "    </tr>\n",
       "    <tr>\n",
       "      <th>3</th>\n",
       "      <td>negative</td>\n",
       "      <td>tell exactly thing powder kind oil ish pasty f...</td>\n",
       "      <td>2.0</td>\n",
       "      <td>[2, 2]</td>\n",
       "      <td>12-07-2013</td>\n",
       "    </tr>\n",
       "    <tr>\n",
       "      <th>4</th>\n",
       "      <td>negative</td>\n",
       "      <td>little small expect okay lasted long time thin...</td>\n",
       "      <td>3.0</td>\n",
       "      <td>[0, 0]</td>\n",
       "      <td>10-18-2013</td>\n",
       "    </tr>\n",
       "  </tbody>\n",
       "</table>\n",
       "</div>"
      ],
      "text/plain": [
       "  sentiment                                         reviewText  overall  \\\n",
       "0  negative  oily creamy expect order try highlight contour...      1.0   \n",
       "1  negative  palette decent price look different shade pale...      3.0   \n",
       "2  positive  texture concealer pallet fantastic great cover...      4.0   \n",
       "3  negative  tell exactly thing powder kind oil ish pasty f...      2.0   \n",
       "4  negative  little small expect okay lasted long time thin...      3.0   \n",
       "\n",
       "  helpful unixReviewTime  \n",
       "0  [3, 4]     01-29-2014  \n",
       "1  [1, 1]     04-17-2014  \n",
       "2  [0, 1]     09-05-2013  \n",
       "3  [2, 2]     12-07-2013  \n",
       "4  [0, 0]     10-18-2013  "
      ]
     },
     "execution_count": 52,
     "metadata": {},
     "output_type": "execute_result"
    }
   ],
   "source": [
    "df.head()"
   ]
  },
  {
   "cell_type": "code",
   "execution_count": 53,
   "metadata": {},
   "outputs": [],
   "source": [
    "# # spaCy - run it previously. It will take a while\n",
    "\n",
    "# df['spacy_doc'] = list(nlp.pipe(df.reviewText))"
   ]
  },
  {
   "cell_type": "code",
   "execution_count": 54,
   "metadata": {},
   "outputs": [],
   "source": [
    "# #Save the file for later use\n",
    "\n",
    "\n",
    "# with open('updated_spacy.pickle', 'wb') as to_write:\n",
    "#     pickle.dump(df, to_write)"
   ]
  },
  {
   "cell_type": "code",
   "execution_count": 55,
   "metadata": {},
   "outputs": [],
   "source": [
    "df = pd.read_pickle('updated_spacy.pickle')\n",
    "df_spacy = df"
   ]
  },
  {
   "cell_type": "code",
   "execution_count": 56,
   "metadata": {},
   "outputs": [],
   "source": [
    "positive_reviews =df_spacy[df_spacy.sentiment == 'positive']\n",
    "negative_reviews = df_spacy[df_spacy.sentiment== 'negative']"
   ]
  },
  {
   "cell_type": "code",
   "execution_count": 57,
   "metadata": {},
   "outputs": [],
   "source": [
    "\n",
    "pos_adj = [token.text.lower() for doc in positive_reviews.spacy_doc for token in doc if token.pos_=='ADJ']\n",
    "neg_adj = [token.text.lower() for doc in negative_reviews.spacy_doc for token in doc if token.pos_=='ADJ']\n",
    "\n",
    "pos_noun = [token.text.lower() for doc in positive_reviews.spacy_doc for token in doc if token.pos_=='NOUN']\n",
    "neg_noun = [token.text.lower() for doc in negative_reviews.spacy_doc for token in doc if token.pos_=='NOUN']"
   ]
  },
  {
   "cell_type": "code",
   "execution_count": 58,
   "metadata": {},
   "outputs": [],
   "source": [
    "from collections import Counter"
   ]
  },
  {
   "cell_type": "code",
   "execution_count": 59,
   "metadata": {},
   "outputs": [
    {
     "data": {
      "text/plain": [
       "[('great', 49287),\n",
       " ('good', 48957),\n",
       " ('dry', 33527),\n",
       " ('little', 26163),\n",
       " ('long', 22264),\n",
       " ('soft', 20639),\n",
       " ('nice', 20381),\n",
       " ('clean', 14496),\n",
       " ('smooth', 13291),\n",
       " ('natural', 12639),\n",
       " ('many', 12267),\n",
       " ('thick', 12194),\n",
       " ('small', 12044),\n",
       " ('perfect', 11266),\n",
       " ('easy', 10363),\n",
       " ('first', 10181),\n",
       " ('fine', 9498),\n",
       " ('different', 9287),\n",
       " ('light', 9034),\n",
       " ('dark', 8682),\n",
       " ('amazing', 8406),\n",
       " ('sensitive', 8353),\n",
       " ('happy', 8194),\n",
       " ('big', 7331),\n",
       " ('strong', 7205),\n",
       " ('old', 7073),\n",
       " ('enough', 7052),\n",
       " ('new', 6858),\n",
       " ('expensive', 6688),\n",
       " ('top', 6587)]"
      ]
     },
     "execution_count": 59,
     "metadata": {},
     "output_type": "execute_result"
    }
   ],
   "source": [
    "positive_adj = Counter(pos_adj).most_common(30)\n",
    "positive_adj"
   ]
  },
  {
   "cell_type": "code",
   "execution_count": 60,
   "metadata": {},
   "outputs": [
    {
     "data": {
      "text/plain": [
       "[('good', 12695),\n",
       " ('dry', 9543),\n",
       " ('little', 6452),\n",
       " ('great', 6101),\n",
       " ('bad', 5067),\n",
       " ('long', 4862),\n",
       " ('nice', 4300),\n",
       " ('thick', 3933),\n",
       " ('small', 3395),\n",
       " ('different', 3283),\n",
       " ('fine', 3184),\n",
       " ('first', 3135),\n",
       " ('natural', 3033),\n",
       " ('soft', 3020),\n",
       " ('many', 2949),\n",
       " ('cheap', 2916),\n",
       " ('dark', 2799),\n",
       " ('clean', 2793),\n",
       " ('sensitive', 2740),\n",
       " ('strong', 2511),\n",
       " ('old', 2355),\n",
       " ('big', 2279),\n",
       " ('light', 2255),\n",
       " ('enough', 2242),\n",
       " ('smooth', 2136),\n",
       " ('high', 2078),\n",
       " ('thin', 2031),\n",
       " ('hard', 2009),\n",
       " ('worth', 1888),\n",
       " ('several', 1826)]"
      ]
     },
     "execution_count": 60,
     "metadata": {},
     "output_type": "execute_result"
    }
   ],
   "source": [
    "\n",
    "negative_adj = Counter(neg_adj).most_common(30)\n",
    "negative_adj"
   ]
  },
  {
   "cell_type": "code",
   "execution_count": 61,
   "metadata": {},
   "outputs": [
    {
     "data": {
      "text/plain": [
       "{'great': 49287,\n",
       " 'good': 48957,\n",
       " 'dry': 33527,\n",
       " 'little': 26163,\n",
       " 'long': 22264,\n",
       " 'soft': 20639,\n",
       " 'nice': 20381,\n",
       " 'clean': 14496,\n",
       " 'smooth': 13291,\n",
       " 'natural': 12639,\n",
       " 'many': 12267,\n",
       " 'thick': 12194,\n",
       " 'small': 12044,\n",
       " 'perfect': 11266,\n",
       " 'easy': 10363,\n",
       " 'first': 10181,\n",
       " 'fine': 9498,\n",
       " 'different': 9287,\n",
       " 'light': 9034,\n",
       " 'dark': 8682,\n",
       " 'amazing': 8406,\n",
       " 'sensitive': 8353,\n",
       " 'happy': 8194,\n",
       " 'big': 7331,\n",
       " 'strong': 7205,\n",
       " 'old': 7073,\n",
       " 'enough': 7052,\n",
       " 'new': 6858,\n",
       " 'expensive': 6688,\n",
       " 'top': 6587}"
      ]
     },
     "execution_count": 61,
     "metadata": {},
     "output_type": "execute_result"
    }
   ],
   "source": [
    "positive_adj = dict(positive_adj)\n",
    "positive_adj"
   ]
  },
  {
   "cell_type": "code",
   "execution_count": 62,
   "metadata": {},
   "outputs": [],
   "source": [
    "negative_adj = dict(negative_adj)"
   ]
  },
  {
   "cell_type": "code",
   "execution_count": 70,
   "metadata": {},
   "outputs": [
    {
     "data": {
      "image/png": "[encoded data removed]",
      "text/plain": [
       "<Figure size 864x432 with 1 Axes>"
      ]
     },
     "metadata": {
      "needs_background": "dark"
     },
     "output_type": "display_data"
    }
   ],
   "source": [
    "# Top 30 most positive adj\n",
    "\n",
    "\n",
    "\n",
    "plt.figure(figsize=(12,6))\n",
    "sns.barplot(list(positive_adj.keys()), list(positive_adj.values()), color=\"LightBlue\")\n",
    "plt.xticks(rotation=90,fontsize=14, color='white');\n",
    "plt.title('Sentiment Analysis - Top 30 Words in Positive Reviews',fontsize=20, color='white');\n",
    "plt.yticks(fontsize=12, color='white');\n",
    "\n",
    "plt.tight_layout();\n",
    "plt.savefig('word__freq_pos_rev.png')"
   ]
  },
  {
   "cell_type": "code",
   "execution_count": 76,
   "metadata": {},
   "outputs": [
    {
     "data": {
      "image/png": "[encoded data removed]",
      "text/plain": [
       "<Figure size 864x432 with 1 Axes>"
      ]
     },
     "metadata": {
      "needs_background": "dark"
     },
     "output_type": "display_data"
    }
   ],
   "source": [
    "# Top 30 most negative polar\n",
    "\n",
    "plt.figure(figsize=(12,6))\n",
    "sns.barplot(list(negative_adj.keys()), list(negative_adj.values()), color='brown')\n",
    "plt.xticks(rotation=90,fontsize=14, color='white');\n",
    "plt.title('Sentiment Analysis - Top 30 Words in Negative Reviews',fontsize=20, color='white');\n",
    "plt.yticks(fontsize=12, color='white');\n",
    "plt.tight_layout();\n",
    "plt.savefig('word__freq_neg_rev.png')\n"
   ]
  },
  {
   "cell_type": "code",
   "execution_count": 79,
   "metadata": {},
   "outputs": [
    {
     "data": {
      "text/plain": [
       "[('hair', 119234),\n",
       " ('skin', 82590),\n",
       " ('love', 39725),\n",
       " ('color', 39664),\n",
       " ('work', 38512),\n",
       " ('time', 35246),\n",
       " ('face', 28658),\n",
       " ('day', 27509),\n",
       " ('price', 22689),\n",
       " ('oil', 22295),\n",
       " ('nail', 21329),\n",
       " ('shampoo', 21099),\n",
       " ('brush', 18616),\n",
       " ('smell', 17504),\n",
       " ('eye', 17024),\n",
       " ('conditioner', 16139),\n",
       " ('cream', 15861),\n",
       " ('way', 15225),\n",
       " ('bottle', 14879),\n",
       " ('bit', 13768)]"
      ]
     },
     "execution_count": 79,
     "metadata": {},
     "output_type": "execute_result"
    }
   ],
   "source": [
    "Counter(pos_noun).most_common(20)"
   ]
  },
  {
   "cell_type": "code",
   "execution_count": 80,
   "metadata": {},
   "outputs": [
    {
     "data": {
      "text/plain": [
       "[('hair', 37052),\n",
       " ('skin', 19681),\n",
       " ('work', 11232),\n",
       " ('color', 10148),\n",
       " ('time', 10124),\n",
       " ('face', 7522),\n",
       " ('day', 6779),\n",
       " ('shampoo', 6069),\n",
       " ('smell', 5863),\n",
       " ('oil', 5703),\n",
       " ('eye', 5244),\n",
       " ('brush', 4898),\n",
       " ('conditioner', 4861),\n",
       " ('price', 4721),\n",
       " ('cream', 4706),\n",
       " ('thing', 4434),\n",
       " ('bottle', 4424),\n",
       " ('way', 4397),\n",
       " ('nail', 4348),\n",
       " ('bit', 3842)]"
      ]
     },
     "execution_count": 80,
     "metadata": {},
     "output_type": "execute_result"
    }
   ],
   "source": [
    "Counter(neg_noun).most_common(20)"
   ]
  },
  {
   "cell_type": "markdown",
   "metadata": {},
   "source": [
    "### Vader Sentiment Analysis"
   ]
  },
  {
   "cell_type": "code",
   "execution_count": 81,
   "metadata": {},
   "outputs": [],
   "source": [
    "from vaderSentiment.vaderSentiment import SentimentIntensityAnalyzer"
   ]
  },
  {
   "cell_type": "code",
   "execution_count": 82,
   "metadata": {},
   "outputs": [],
   "source": [
    "df = pd.read_pickle('updated_lem_review.pickle')"
   ]
  },
  {
   "cell_type": "code",
   "execution_count": 83,
   "metadata": {},
   "outputs": [],
   "source": [
    "analyzer = SentimentIntensityAnalyzer()\n",
    "scores = []\n",
    "\n",
    "for doc in df['reviewText']:\n",
    "    vs = analyzer.polarity_scores(doc)\n",
    "    scores.append(vs)"
   ]
  },
  {
   "cell_type": "code",
   "execution_count": 84,
   "metadata": {},
   "outputs": [
    {
     "data": {
      "text/plain": [
       "[{'neg': 0.183, 'neu': 0.671, 'pos': 0.146, 'compound': -0.1531},\n",
       " {'neg': 0.0, 'neu': 1.0, 'pos': 0.0, 'compound': 0.0},\n",
       " {'neg': 0.052, 'neu': 0.575, 'pos': 0.373, 'compound': 0.9538},\n",
       " {'neg': 0.0, 'neu': 0.825, 'pos': 0.175, 'compound': 0.5267},\n",
       " {'neg': 0.045, 'neu': 0.701, 'pos': 0.254, 'compound': 0.7631}]"
      ]
     },
     "execution_count": 84,
     "metadata": {},
     "output_type": "execute_result"
    }
   ],
   "source": [
    "scores[:5]"
   ]
  },
  {
   "cell_type": "code",
   "execution_count": 85,
   "metadata": {},
   "outputs": [],
   "source": [
    "negative_scores =[score['neg'] for score in scores]\n",
    "positive_scores =[score['pos']  for score in scores]\n",
    "neutral_scores = [score['neu'] for score in scores]\n",
    "compound_scores =[score['compound'] for score in scores]"
   ]
  },
  {
   "cell_type": "code",
   "execution_count": 86,
   "metadata": {},
   "outputs": [],
   "source": [
    "df['vader_neg'] = negative_scores\n",
    "df['vader_pos'] = positive_scores\n",
    "df['vader_neut'] = neutral_scores\n",
    "df['compound'] = compound_scores\n"
   ]
  },
  {
   "cell_type": "code",
   "execution_count": 96,
   "metadata": {},
   "outputs": [],
   "source": [
    "df['sentiment_class'] = np.where(df['overall'] >=4, '1', '0')\n",
    "df['vader_class'] = np.where(df['compound'] >=0, '1', '0')"
   ]
  },
  {
   "cell_type": "code",
   "execution_count": 97,
   "metadata": {},
   "outputs": [
    {
     "data": {
      "text/html": [
       "<div>\n",
       "<style scoped>\n",
       "    .dataframe tbody tr th:only-of-type {\n",
       "        vertical-align: middle;\n",
       "    }\n",
       "\n",
       "    .dataframe tbody tr th {\n",
       "        vertical-align: top;\n",
       "    }\n",
       "\n",
       "    .dataframe thead th {\n",
       "        text-align: right;\n",
       "    }\n",
       "</style>\n",
       "<table border=\"1\" class=\"dataframe\">\n",
       "  <thead>\n",
       "    <tr style=\"text-align: right;\">\n",
       "      <th></th>\n",
       "      <th>sentiment</th>\n",
       "      <th>reviewText</th>\n",
       "      <th>overall</th>\n",
       "      <th>helpful</th>\n",
       "      <th>unixReviewTime</th>\n",
       "      <th>stopwords</th>\n",
       "      <th>vader_neg</th>\n",
       "      <th>vader_pos</th>\n",
       "      <th>vader_neut</th>\n",
       "      <th>compound</th>\n",
       "      <th>sentiment_class</th>\n",
       "      <th>vader_class</th>\n",
       "    </tr>\n",
       "  </thead>\n",
       "  <tbody>\n",
       "    <tr>\n",
       "      <th>0</th>\n",
       "      <td>negative</td>\n",
       "      <td>oily creamy expect order try highlight contour...</td>\n",
       "      <td>1.0</td>\n",
       "      <td>[3, 4]</td>\n",
       "      <td>01-29-2014</td>\n",
       "      <td>12</td>\n",
       "      <td>0.183</td>\n",
       "      <td>0.146</td>\n",
       "      <td>0.671</td>\n",
       "      <td>-0.1531</td>\n",
       "      <td>0</td>\n",
       "      <td>0</td>\n",
       "    </tr>\n",
       "    <tr>\n",
       "      <th>1</th>\n",
       "      <td>negative</td>\n",
       "      <td>palette decent price look different shade pale...</td>\n",
       "      <td>3.0</td>\n",
       "      <td>[1, 1]</td>\n",
       "      <td>04-17-2014</td>\n",
       "      <td>11</td>\n",
       "      <td>0.000</td>\n",
       "      <td>0.000</td>\n",
       "      <td>1.000</td>\n",
       "      <td>0.0000</td>\n",
       "      <td>0</td>\n",
       "      <td>1</td>\n",
       "    </tr>\n",
       "    <tr>\n",
       "      <th>2</th>\n",
       "      <td>positive</td>\n",
       "      <td>texture concealer pallet fantastic great cover...</td>\n",
       "      <td>4.0</td>\n",
       "      <td>[0, 1]</td>\n",
       "      <td>09-05-2013</td>\n",
       "      <td>51</td>\n",
       "      <td>0.052</td>\n",
       "      <td>0.373</td>\n",
       "      <td>0.575</td>\n",
       "      <td>0.9538</td>\n",
       "      <td>1</td>\n",
       "      <td>1</td>\n",
       "    </tr>\n",
       "    <tr>\n",
       "      <th>3</th>\n",
       "      <td>negative</td>\n",
       "      <td>tell exactly thing powder kind oil ish pasty f...</td>\n",
       "      <td>2.0</td>\n",
       "      <td>[2, 2]</td>\n",
       "      <td>12-07-2013</td>\n",
       "      <td>12</td>\n",
       "      <td>0.000</td>\n",
       "      <td>0.175</td>\n",
       "      <td>0.825</td>\n",
       "      <td>0.5267</td>\n",
       "      <td>0</td>\n",
       "      <td>1</td>\n",
       "    </tr>\n",
       "    <tr>\n",
       "      <th>4</th>\n",
       "      <td>negative</td>\n",
       "      <td>little small expect okay lasted long time thin...</td>\n",
       "      <td>3.0</td>\n",
       "      <td>[0, 0]</td>\n",
       "      <td>10-18-2013</td>\n",
       "      <td>31</td>\n",
       "      <td>0.045</td>\n",
       "      <td>0.254</td>\n",
       "      <td>0.701</td>\n",
       "      <td>0.7631</td>\n",
       "      <td>0</td>\n",
       "      <td>1</td>\n",
       "    </tr>\n",
       "  </tbody>\n",
       "</table>\n",
       "</div>"
      ],
      "text/plain": [
       "  sentiment                                         reviewText  overall  \\\n",
       "0  negative  oily creamy expect order try highlight contour...      1.0   \n",
       "1  negative  palette decent price look different shade pale...      3.0   \n",
       "2  positive  texture concealer pallet fantastic great cover...      4.0   \n",
       "3  negative  tell exactly thing powder kind oil ish pasty f...      2.0   \n",
       "4  negative  little small expect okay lasted long time thin...      3.0   \n",
       "\n",
       "  helpful unixReviewTime  stopwords  vader_neg  vader_pos  vader_neut  \\\n",
       "0  [3, 4]     01-29-2014         12      0.183      0.146       0.671   \n",
       "1  [1, 1]     04-17-2014         11      0.000      0.000       1.000   \n",
       "2  [0, 1]     09-05-2013         51      0.052      0.373       0.575   \n",
       "3  [2, 2]     12-07-2013         12      0.000      0.175       0.825   \n",
       "4  [0, 0]     10-18-2013         31      0.045      0.254       0.701   \n",
       "\n",
       "   compound sentiment_class vader_class  \n",
       "0   -0.1531               0           0  \n",
       "1    0.0000               0           1  \n",
       "2    0.9538               1           1  \n",
       "3    0.5267               0           1  \n",
       "4    0.7631               0           1  "
      ]
     },
     "execution_count": 97,
     "metadata": {},
     "output_type": "execute_result"
    }
   ],
   "source": [
    "df.head()"
   ]
  },
  {
   "cell_type": "code",
   "execution_count": 98,
   "metadata": {},
   "outputs": [
    {
     "data": {
      "text/plain": [
       "(198108, 16)"
      ]
     },
     "execution_count": 98,
     "metadata": {},
     "output_type": "execute_result"
    }
   ],
   "source": [
    "df['vader_neg_roll'] = df['vader_neg'].rolling(5, center=True).mean()\n",
    "df['vader_pos_roll'] = df['vader_pos'].rolling(5, center=True).mean()\n",
    "df['vader_neut_roll'] = df['vader_neut'].rolling(5, center=True).mean()\n",
    "df['vader_compound_roll'] = df['compound'].rolling(5, center=True).mean()\n",
    "df.shape"
   ]
  },
  {
   "cell_type": "code",
   "execution_count": 99,
   "metadata": {},
   "outputs": [
    {
     "data": {
      "text/html": [
       "<div>\n",
       "<style scoped>\n",
       "    .dataframe tbody tr th:only-of-type {\n",
       "        vertical-align: middle;\n",
       "    }\n",
       "\n",
       "    .dataframe tbody tr th {\n",
       "        vertical-align: top;\n",
       "    }\n",
       "\n",
       "    .dataframe thead th {\n",
       "        text-align: right;\n",
       "    }\n",
       "</style>\n",
       "<table border=\"1\" class=\"dataframe\">\n",
       "  <thead>\n",
       "    <tr style=\"text-align: right;\">\n",
       "      <th></th>\n",
       "      <th>sentiment</th>\n",
       "      <th>reviewText</th>\n",
       "      <th>overall</th>\n",
       "      <th>helpful</th>\n",
       "      <th>unixReviewTime</th>\n",
       "      <th>stopwords</th>\n",
       "      <th>vader_neg</th>\n",
       "      <th>vader_pos</th>\n",
       "      <th>vader_neut</th>\n",
       "      <th>compound</th>\n",
       "      <th>sentiment_class</th>\n",
       "      <th>vader_class</th>\n",
       "      <th>vader_neg_roll</th>\n",
       "      <th>vader_pos_roll</th>\n",
       "      <th>vader_neut_roll</th>\n",
       "      <th>vader_compound_roll</th>\n",
       "    </tr>\n",
       "  </thead>\n",
       "  <tbody>\n",
       "    <tr>\n",
       "      <th>0</th>\n",
       "      <td>negative</td>\n",
       "      <td>oily creamy expect order try highlight contour...</td>\n",
       "      <td>1.0</td>\n",
       "      <td>[3, 4]</td>\n",
       "      <td>01-29-2014</td>\n",
       "      <td>12</td>\n",
       "      <td>0.183</td>\n",
       "      <td>0.146</td>\n",
       "      <td>0.671</td>\n",
       "      <td>-0.1531</td>\n",
       "      <td>0</td>\n",
       "      <td>0</td>\n",
       "      <td>NaN</td>\n",
       "      <td>NaN</td>\n",
       "      <td>NaN</td>\n",
       "      <td>NaN</td>\n",
       "    </tr>\n",
       "    <tr>\n",
       "      <th>1</th>\n",
       "      <td>negative</td>\n",
       "      <td>palette decent price look different shade pale...</td>\n",
       "      <td>3.0</td>\n",
       "      <td>[1, 1]</td>\n",
       "      <td>04-17-2014</td>\n",
       "      <td>11</td>\n",
       "      <td>0.000</td>\n",
       "      <td>0.000</td>\n",
       "      <td>1.000</td>\n",
       "      <td>0.0000</td>\n",
       "      <td>0</td>\n",
       "      <td>1</td>\n",
       "      <td>NaN</td>\n",
       "      <td>NaN</td>\n",
       "      <td>NaN</td>\n",
       "      <td>NaN</td>\n",
       "    </tr>\n",
       "    <tr>\n",
       "      <th>2</th>\n",
       "      <td>positive</td>\n",
       "      <td>texture concealer pallet fantastic great cover...</td>\n",
       "      <td>4.0</td>\n",
       "      <td>[0, 1]</td>\n",
       "      <td>09-05-2013</td>\n",
       "      <td>51</td>\n",
       "      <td>0.052</td>\n",
       "      <td>0.373</td>\n",
       "      <td>0.575</td>\n",
       "      <td>0.9538</td>\n",
       "      <td>1</td>\n",
       "      <td>1</td>\n",
       "      <td>0.0560</td>\n",
       "      <td>0.1896</td>\n",
       "      <td>0.7544</td>\n",
       "      <td>0.41810</td>\n",
       "    </tr>\n",
       "    <tr>\n",
       "      <th>3</th>\n",
       "      <td>negative</td>\n",
       "      <td>tell exactly thing powder kind oil ish pasty f...</td>\n",
       "      <td>2.0</td>\n",
       "      <td>[2, 2]</td>\n",
       "      <td>12-07-2013</td>\n",
       "      <td>12</td>\n",
       "      <td>0.000</td>\n",
       "      <td>0.175</td>\n",
       "      <td>0.825</td>\n",
       "      <td>0.5267</td>\n",
       "      <td>0</td>\n",
       "      <td>1</td>\n",
       "      <td>0.0194</td>\n",
       "      <td>0.2484</td>\n",
       "      <td>0.7322</td>\n",
       "      <td>0.64528</td>\n",
       "    </tr>\n",
       "    <tr>\n",
       "      <th>4</th>\n",
       "      <td>negative</td>\n",
       "      <td>little small expect okay lasted long time thin...</td>\n",
       "      <td>3.0</td>\n",
       "      <td>[0, 0]</td>\n",
       "      <td>10-18-2013</td>\n",
       "      <td>31</td>\n",
       "      <td>0.045</td>\n",
       "      <td>0.254</td>\n",
       "      <td>0.701</td>\n",
       "      <td>0.7631</td>\n",
       "      <td>0</td>\n",
       "      <td>1</td>\n",
       "      <td>0.0194</td>\n",
       "      <td>0.2896</td>\n",
       "      <td>0.6910</td>\n",
       "      <td>0.77266</td>\n",
       "    </tr>\n",
       "  </tbody>\n",
       "</table>\n",
       "</div>"
      ],
      "text/plain": [
       "  sentiment                                         reviewText  overall  \\\n",
       "0  negative  oily creamy expect order try highlight contour...      1.0   \n",
       "1  negative  palette decent price look different shade pale...      3.0   \n",
       "2  positive  texture concealer pallet fantastic great cover...      4.0   \n",
       "3  negative  tell exactly thing powder kind oil ish pasty f...      2.0   \n",
       "4  negative  little small expect okay lasted long time thin...      3.0   \n",
       "\n",
       "  helpful unixReviewTime  stopwords  vader_neg  vader_pos  vader_neut  \\\n",
       "0  [3, 4]     01-29-2014         12      0.183      0.146       0.671   \n",
       "1  [1, 1]     04-17-2014         11      0.000      0.000       1.000   \n",
       "2  [0, 1]     09-05-2013         51      0.052      0.373       0.575   \n",
       "3  [2, 2]     12-07-2013         12      0.000      0.175       0.825   \n",
       "4  [0, 0]     10-18-2013         31      0.045      0.254       0.701   \n",
       "\n",
       "   compound sentiment_class vader_class  vader_neg_roll  vader_pos_roll  \\\n",
       "0   -0.1531               0           0             NaN             NaN   \n",
       "1    0.0000               0           1             NaN             NaN   \n",
       "2    0.9538               1           1          0.0560          0.1896   \n",
       "3    0.5267               0           1          0.0194          0.2484   \n",
       "4    0.7631               0           1          0.0194          0.2896   \n",
       "\n",
       "   vader_neut_roll  vader_compound_roll  \n",
       "0              NaN                  NaN  \n",
       "1              NaN                  NaN  \n",
       "2           0.7544              0.41810  \n",
       "3           0.7322              0.64528  \n",
       "4           0.6910              0.77266  "
      ]
     },
     "execution_count": 99,
     "metadata": {},
     "output_type": "execute_result"
    }
   ],
   "source": [
    "df.head()"
   ]
  },
  {
   "cell_type": "code",
   "execution_count": 100,
   "metadata": {},
   "outputs": [
    {
     "data": {
      "text/plain": [
       "numpy.float64"
      ]
     },
     "execution_count": 100,
     "metadata": {},
     "output_type": "execute_result"
    }
   ],
   "source": [
    "type(df['overall'][0])"
   ]
  },
  {
   "cell_type": "code",
   "execution_count": 101,
   "metadata": {},
   "outputs": [],
   "source": [
    "# Savign the for later use\n",
    "\n",
    "\n",
    "# df.to_csv('sentiment_vader1.csv') "
   ]
  },
  {
   "cell_type": "code",
   "execution_count": 102,
   "metadata": {},
   "outputs": [
    {
     "data": {
      "image/png": "[encoded data removed]",
      "text/plain": [
       "<Figure size 432x288 with 1 Axes>"
      ]
     },
     "metadata": {
      "needs_background": "light"
     },
     "output_type": "display_data"
    }
   ],
   "source": [
    "# plot original review class \n",
    "\n",
    "sns.countplot(x='sentiment_class', data=df, palette ='Blues_r');\n",
    "plt.xlabel('Original Amazon', fontsize = 12);\n",
    "plt.ylabel('Count', fontsize = 12);\n",
    "plt.title(\"Original Amazon - class\", fontsize =12);\n",
    "plt.savefig('review_score_amazon_original 2003-2008')\n"
   ]
  },
  {
   "cell_type": "code",
   "execution_count": 103,
   "metadata": {},
   "outputs": [
    {
     "data": {
      "image/png": "[encoded data removed]",
      "text/plain": [
       "<Figure size 432x288 with 1 Axes>"
      ]
     },
     "metadata": {
      "needs_background": "light"
     },
     "output_type": "display_data"
    }
   ],
   "source": [
    "# plot original review class \n",
    "\n",
    "sns.countplot(x='vader_class', data=df, palette ='Blues_r');\n",
    "plt.xlabel('Vader - Class', fontsize = 12);\n",
    "plt.ylabel('Count', fontsize = 12);\n",
    "plt.title(\"Amazon Review Vader - class\", fontsize =12);\n",
    "plt.savefig('review_score_vader_score 2003-2008')"
   ]
  },
  {
   "cell_type": "code",
   "execution_count": 104,
   "metadata": {},
   "outputs": [],
   "source": [
    "# Plot review ti9me by stars\n",
    "\n",
    "# Divide the data by score and group for each month\n",
    "grp_s1=df[df['overall']==1.0]\n",
    "grp_s2=df[df['overall']==2.0]\n",
    "grp_s3=df[df['overall']==3.0]\n",
    "grp_s4=df[df['overall']==4.0]\n",
    "grp_s5=df[df['overall']==5.0]\n",
    "\n",
    "grp_date_1=grp_s1.groupby(by=['unixReviewTime']).count();\n",
    "grp_date_2=grp_s2.groupby(by=['unixReviewTime']).count();\n",
    "grp_date_3=grp_s3.groupby(by=['unixReviewTime']).count();\n",
    "grp_date_4=grp_s4.groupby(by=['unixReviewTime']).count();\n",
    "grp_date_5=grp_s5.groupby(by=['unixReviewTime']).count();\n",
    "\n",
    "grp_date_1.reset_index(inplace=True); #to make it to column\n",
    "grp_date_2.reset_index(inplace=True);\n",
    "grp_date_3.reset_index(inplace=True);\n",
    "grp_date_4.reset_index(inplace=True);\n",
    "grp_date_5.reset_index(inplace=True);"
   ]
  },
  {
   "cell_type": "code",
   "execution_count": 105,
   "metadata": {},
   "outputs": [
    {
     "data": {
      "image/png": "[encoded data removed]",
      "text/plain": [
       "<Figure size 1728x576 with 1 Axes>"
      ]
     },
     "metadata": {
      "needs_background": "light"
     },
     "output_type": "display_data"
    }
   ],
   "source": [
    "# review count by score for each month from 2000 to 2012\n",
    "plt.figure(figsize=(24,8))\n",
    "\n",
    "plt.plot_date(x=grp_date_1['unixReviewTime'],y=grp_date_1['overall'],label='Star = 1');\n",
    "plt.plot_date(x=grp_date_2['unixReviewTime'],y=grp_date_2['overall'],label='Star = 2');\n",
    "plt.plot_date(x=grp_date_3['unixReviewTime'],y=grp_date_3['overall'],label='Star = 3');\n",
    "plt.plot_date(x=grp_date_4['unixReviewTime'],y=grp_date_4['overall'],label='Star = 4');\n",
    "plt.plot_date(x=grp_date_5['unixReviewTime'],y=grp_date_5['overall'],label='Star = 5');\n",
    "plt.xticks(rotation=90);\n",
    "plt.legend()\n",
    "plt.grid(linewidth=0.5,alpha=0.75)\n",
    "plt.xlim('2008-01','2013-12');\n",
    "plt.xlabel('Date',fontsize=22)\n",
    "plt.ylabel('Number of review',fontsize=22)\n",
    "plt.title('Number of review trend from 2008 to 2013',fontsize=24);\n",
    "plt.savefig('date_rev_trend.png')\n",
    "# grp_date"
   ]
  },
  {
   "cell_type": "code",
   "execution_count": null,
   "metadata": {},
   "outputs": [],
   "source": []
  },
  {
   "cell_type": "code",
   "execution_count": null,
   "metadata": {},
   "outputs": [],
   "source": []
  },
  {
   "cell_type": "code",
   "execution_count": null,
   "metadata": {},
   "outputs": [],
   "source": []
  }
 ],
 "metadata": {
  "kernelspec": {
   "display_name": "Python [conda env:metis] *",
   "language": "python",
   "name": "conda-env-metis-py"
  },
  "language_info": {
   "codemirror_mode": {
    "name": "ipython",
    "version": 3
   },
   "file_extension": ".py",
   "mimetype": "text/x-python",
   "name": "python",
   "nbconvert_exporter": "python",
   "pygments_lexer": "ipython3",
   "version": "3.8.5"
  }
 },
 "nbformat": 4,
 "nbformat_minor": 4
}
